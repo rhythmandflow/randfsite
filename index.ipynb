{
  "cells": [
    {
      "cell_type": "raw",
      "metadata": {},
      "source": [
        "---\n",
        "title: \"Rhythm And Flow\"\n",
        "---"
      ],
      "id": "1dec2199"
    },
    {
      "cell_type": "markdown",
      "metadata": {},
      "source": [
        "```{html}\n",
        "<!DOCTYPE html>\n",
        "<html lang=\"en\">\n",
        "<head>\n",
        "    <meta charset=\"UTF-8\">\n",
        "    <meta name=\"viewport\" content=\"width=device-width, initial-scale=1.0\">\n",
        "    <title>Google Photos Gallery</title>\n",
        "</head>\n",
        "<body>\n",
        "\n",
        "<!-- Google Photos Embed Code -->\n",
        "<iframe src=\"https://photos.app.goo.gl/dYzmQ7TCvnDndmKU9\" width=\"100%\" height=\"500\" frameborder=\"0\" style=\"border:0\" allowfullscreen></iframe>\n",
        "\n",
        "</body>\n",
        "</html>\n",
        "```"
      ],
      "id": "15dc1415"
    }
  ],
  "metadata": {
    "kernelspec": {
      "display_name": "Python 3",
      "language": "python",
      "name": "python3"
    }
  },
  "nbformat": 4,
  "nbformat_minor": 5
}