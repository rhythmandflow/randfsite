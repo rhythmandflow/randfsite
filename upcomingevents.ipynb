{
  "cells": [
    {
      "cell_type": "raw",
      "metadata": {},
      "source": [
        "---\n",
        "title: \"upcomingevents\"\n",
        "---"
      ],
      "id": "c2f4af30"
    },
    {
      "cell_type": "markdown",
      "metadata": {},
      "source": [
        "```{html}\n",
        "\n",
        "<a href=\"https://posh.vip/g/rhythm-and-flow\">Purchase Tickets</a>\n",
        "\n",
        "```"
      ],
      "id": "4872d8b0"
    }
  ],
  "metadata": {
    "kernelspec": {
      "display_name": "Python 3",
      "language": "python",
      "name": "python3"
    }
  },
  "nbformat": 4,
  "nbformat_minor": 5
}